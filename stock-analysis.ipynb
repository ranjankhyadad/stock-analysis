{
 "cells": [
  {
   "cell_type": "code",
   "execution_count": 30,
   "metadata": {},
   "outputs": [
    {
     "name": "stderr",
     "output_type": "stream",
     "text": [
      "BokehUserWarning: ColumnDataSource's columns must be of the same length. Current lengths: ('height', 84), ('x', 47), ('y', 47)\n",
      "BokehUserWarning: ColumnDataSource's columns must be of the same length. Current lengths: ('height', 84), ('x', 37), ('y', 37)\n"
     ]
    }
   ],
   "source": [
    "from pandas_datareader import data\n",
    "import datetime\n",
    "from bokeh.plotting import show, output_file, figure\n",
    "\n",
    "start = datetime.datetime(2019,12,1)\n",
    "end = datetime.datetime(2020,4,1)\n",
    "\n",
    "df = data.DataReader(name = \"GOOG\",data_source = \"yahoo\", start = start, end = end)\n",
    "\n",
    "def status(c,o):\n",
    "    if c>o:\n",
    "        status = \"Increase\"\n",
    "    elif c<o:\n",
    "        status = \"Decrease\"\n",
    "    else:\n",
    "        status = \"Unchanged\"\n",
    "    return status\n",
    "\n",
    "df[\"Status\"] = [ status(c,o) for c,o in zip(df[\"Close\"], df[\"Open\"])]\n",
    "\n",
    "df[\"Centre\"] = (df.Open+df.Close)/2\n",
    "\n",
    "fig = figure(title = \"Analysis\", x_axis_type=\"datetime\", height=300, width =1000, sizing_mode =\"scale_width\")\n",
    "fig.grid.grid_line_alpha = 0.4\n",
    "\n",
    "#layer1\n",
    "#segment parameters - segment(xval of highest point, yval of highest point, \n",
    "#                     xval of lowest. yval of lowest)\n",
    "fig.segment(df.index, df.High, df.index, df.Low, color =\"Grey\")\n",
    "\n",
    "#layer2\n",
    "#parameters for rect- [x-axis, y-axis(centre),width, height]\n",
    "# here width =12 hrs which is 12*60*60*1000= 43200000 ms\n",
    "fig.rect(df.index[df[\"Status\"]==\"Increase\"], df.Centre[df[\"Status\"]==\"Increase\"], \n",
    "         43200000, abs(df.Close-df.Open), fill_color=\"#98FB98\", line_color =\"black\" )\n",
    "fig.rect(df.index[df[\"Status\"]==\"Decrease\"], df.Centre[df[\"Status\"]==\"Decrease\"], \n",
    "         43200000, abs(df.Close-df.Open), fill_color=\"red\", line_color =\"black\")\n",
    "\n",
    "output_file(\"analysis.html\")\n",
    "\n",
    "show(fig)"
   ]
  }
 ],
 "metadata": {
  "kernelspec": {
   "display_name": "Python 3",
   "language": "python",
   "name": "python3"
  },
  "language_info": {
   "codemirror_mode": {
    "name": "ipython",
    "version": 3
   },
   "file_extension": ".py",
   "mimetype": "text/x-python",
   "name": "python",
   "nbconvert_exporter": "python",
   "pygments_lexer": "ipython3",
   "version": "3.7.4"
  }
 },
 "nbformat": 4,
 "nbformat_minor": 4
}
